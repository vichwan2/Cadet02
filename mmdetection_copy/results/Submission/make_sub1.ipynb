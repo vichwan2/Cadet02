{
 "cells": [
  {
   "cell_type": "code",
   "execution_count": 10,
   "metadata": {},
   "outputs": [
    {
     "name": "stdout",
     "output_type": "stream",
     "text": [
      "CSV 파일이 성공적으로 저장되었습니다.\n",
      "CSV 파일이 '/root/eliceAI/mm_jh/mmdetection/Submission/output_file.csv'로 성공적으로 저장되었습니다.\n"
     ]
    }
   ],
   "source": [
    "import pandas as pd\n",
    "import json\n",
    "import re\n",
    "import os\n",
    "\n",
    "# CSV 파일 경로\n",
    "csv_file = '/root/eliceAI/mm_jh/mmdetection/results/results.csv'\n",
    "output_csv_file = '/root/eliceAI/mm_jh/mmdetection/Submission/output_file.csv'\n",
    "# 이미지 크기 (예시, 실제 이미지 크기에 맞게 조정)\n",
    "image_width = 1280\n",
    "image_height = 720\n",
    "\n",
    "\n",
    "# CSV 파일 읽기\n",
    "df = pd.read_csv(csv_file)\n",
    "\n",
    "# 4번째 열과 8번째 열 선택 (열 인덱스는 0부터 시작하므로 3과 7)\n",
    "df = df.iloc[:, [3, 7]]\n",
    "\n",
    "# 첫 번째 열에서 파일 경로의 파일 이름만 추출\n",
    "df.iloc[:, 0] = df.iloc[:, 0].apply(lambda x: os.path.basename(x).split('.')[0])\n",
    "\n",
    "\n",
    "print(\"CSV 파일이 성공적으로 저장되었습니다.\")\n",
    "def convert_tensor_to_list(tensor_str):\n",
    "    \"\"\"\n",
    "    Convert tensor notation in string to a list notation.\n",
    "    Example:\n",
    "    - tensor([0.8276, 0.8031]) -> [0.8276, 0.8031]\n",
    "    - tensor([[100, 150, 200, 250], [300, 350, 400, 450]]) -> [[100, 150, 200, 250], [300, 350, 400, 450]]\n",
    "    \"\"\"\n",
    "    # Remove 'tensor(' and ')', convert to list format\n",
    "    tensor_str = re.sub(r'tensor\\(\\s*\\[\\s*(.*?)\\s*\\]\\s*\\)', r'[\\1]', tensor_str)  # For lists\n",
    "    tensor_str = re.sub(r'tensor\\(\\s*(.*?)\\s*\\)', r'[\\1]', tensor_str)  # For single values\n",
    "    tensor_str = re.sub(r'tensor\\(', '', tensor_str)  # Remove 'tensor('\n",
    "    tensor_str = re.sub(r'\\)', '', tensor_str)  # Remove ')'\n",
    "    return tensor_str\n",
    "\n",
    "# 'pred_instances' 열의 텐서 문자열을 변환\n",
    "df['pred_instances'] = df['pred_instances'].apply(convert_tensor_to_list)\n",
    "\n",
    "# 수정된 데이터프레임을 새로운 CSV 파일로 저장\n",
    "df.to_csv(output_csv_file, index=False)\n",
    "\n",
    "print(f\"CSV 파일이 '{output_csv_file}'로 성공적으로 저장되었습니다.\")"
   ]
  }
 ],
 "metadata": {
  "kernelspec": {
   "display_name": "mm_yj_copy",
   "language": "python",
   "name": "python3"
  },
  "language_info": {
   "codemirror_mode": {
    "name": "ipython",
    "version": 3
   },
   "file_extension": ".py",
   "mimetype": "text/x-python",
   "name": "python",
   "nbconvert_exporter": "python",
   "pygments_lexer": "ipython3",
   "version": "3.8.19"
  }
 },
 "nbformat": 4,
 "nbformat_minor": 2
}
