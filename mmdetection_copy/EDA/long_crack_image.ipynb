{
 "cells": [
  {
   "cell_type": "code",
   "execution_count": 3,
   "metadata": {},
   "outputs": [
    {
     "name": "stdout",
     "output_type": "stream",
     "text": [
      "Extracted 4829 images.\n"
     ]
    }
   ],
   "source": [
    "import pandas as pd\n",
    "import numpy as np\n",
    "import json\n",
    "import os\n",
    "import shutil\n",
    "\n",
    "# 설정\n",
    "input_json_path = '/root/eliceAI/dataset_root/annotations/train.json'  # COCO 포맷 JSON 파일 경로\n",
    "output_folder = '/root/eliceAI/mm_jh/mmdetection/EDA/Train_for_long_crack'  # 추출된 이미지를 저장할 폴더\n",
    "min_sqrt_area = 300  # 기준 sqrt_area 값\n",
    "\n",
    "# JSON 파일 로딩\n",
    "with open(input_json_path, 'r') as f:\n",
    "    coco_data = json.load(f)\n",
    "\n",
    "# 바운딩 박스 정보 데이터프레임 생성\n",
    "df = pd.json_normalize(coco_data['annotations'])\n",
    "df[[\"X\", \"Y\", \"W\", \"H\"]] = list(df.bbox)\n",
    "df.drop(columns='bbox', inplace=True)\n",
    "df['sqrt_area'] = np.sqrt(df['area'])\n",
    "\n",
    "# 특정 sqrt_area 이상인 바운딩 박스가 있는 이미지 ID 추출\n",
    "filtered_images_ids = df[df['sqrt_area'] >= min_sqrt_area]['image_id'].unique()\n",
    "\n",
    "# category_id=2를 포함하는 이미지 ID를 찾기\n",
    "excluded_image_ids = df[df['category_id'] == 2]['image_id'].unique()\n",
    "\n",
    "# 최종 필터링된 이미지 ID\n",
    "final_image_ids = [img_id for img_id in filtered_images_ids if img_id not in excluded_image_ids]\n",
    "\n",
    "# 이미지 ID와 파일명 매핑\n",
    "image_id_to_filename = {img['id']: img['file_name'] for img in coco_data['images']}\n",
    "\n",
    "# 결과를 저장할 폴더 생성 (존재하지 않으면 생성)\n",
    "os.makedirs(output_folder, exist_ok=True)\n",
    "\n",
    "# 이미지 추출\n",
    "for image_id in final_image_ids:\n",
    "    if image_id in image_id_to_filename:\n",
    "        image_file = image_id_to_filename[image_id]\n",
    "        # 이미지 파일 경로를 지정해야 합니다.\n",
    "        # 여기서는 이미지가 현재 작업 디렉토리의 `images` 폴더에 있다고 가정합니다.\n",
    "        image_path = os.path.join('/root/eliceAI/dataset_root/train', image_file)\n",
    "        \n",
    "        if os.path.exists(image_path):\n",
    "            shutil.copy(image_path, output_folder)\n",
    "        else:\n",
    "            print(f\"Image {image_path} does not exist.\")\n",
    "\n",
    "print(f\"Extracted {len(final_image_ids)} images.\")\n"
   ]
  }
 ],
 "metadata": {
  "kernelspec": {
   "display_name": "mm_yj_copy",
   "language": "python",
   "name": "python3"
  },
  "language_info": {
   "codemirror_mode": {
    "name": "ipython",
    "version": 3
   },
   "file_extension": ".py",
   "mimetype": "text/x-python",
   "name": "python",
   "nbconvert_exporter": "python",
   "pygments_lexer": "ipython3",
   "version": "3.8.19"
  }
 },
 "nbformat": 4,
 "nbformat_minor": 2
}
