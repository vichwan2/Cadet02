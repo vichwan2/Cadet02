{
 "cells": [
  {
   "cell_type": "code",
   "execution_count": 1,
   "metadata": {},
   "outputs": [
    {
     "name": "stdout",
     "output_type": "stream",
     "text": [
      "Filtered JSON file created successfully.\n"
     ]
    }
   ],
   "source": [
    "import json\n",
    "import os\n",
    "\n",
    "# 설정\n",
    "input_json_path = '/root/eliceAI/dataset_root/annotations/train.json'  # 기존 JSON 파일 경로\n",
    "image_files_folder = '/root/eliceAI/mm_jh/mmdetection/EDA/Train_for_long_crack'  # 추출할 이미지 파일이 있는 폴더\n",
    "output_json_path = '/root/eliceAI/mm_jh/mmdetection/EDA/LongCrack_annotations/filtered_annotations.json'  # 새롭게 저장할 JSON 파일 경로\n",
    "\n",
    "# JSON 파일 로딩\n",
    "with open(input_json_path, 'r') as f:\n",
    "    coco_data = json.load(f)\n",
    "\n",
    "# 이미지 파일 목록에서 이미지 파일 이름 추출\n",
    "image_files = [f for f in os.listdir(image_files_folder) if f.endswith(('.jpg', '.png', '.jpeg'))]\n",
    "image_filenames = set([os.path.basename(f) for f in image_files])\n",
    "\n",
    "# 이미지 ID와 파일 이름 매핑\n",
    "image_id_to_filename = {img['id']: img['file_name'] for img in coco_data['images']}\n",
    "# 이미지 ID를 추출\n",
    "image_ids = {img_id for img_id, filename in image_id_to_filename.items() if filename in image_filenames}\n",
    "\n",
    "# 필터링된 이미지와 주석 추출\n",
    "filtered_images = [img for img in coco_data['images'] if img['id'] in image_ids]\n",
    "filtered_annotations = [ann for ann in coco_data['annotations'] if ann['image_id'] in image_ids]\n",
    "\n",
    "# 새 JSON 데이터 작성\n",
    "filtered_data = {\n",
    "    'images': filtered_images,\n",
    "    'annotations': filtered_annotations,\n",
    "    'categories': coco_data['categories']  # 카테고리는 전체 데이터에서 모두 필요할 수 있습니다.\n",
    "}\n",
    "\n",
    "# 새 JSON 파일 저장\n",
    "with open(output_json_path, 'w') as f:\n",
    "    json.dump(filtered_data, f, indent=4)\n",
    "\n",
    "print(\"Filtered JSON file created successfully.\")\n"
   ]
  }
 ],
 "metadata": {
  "kernelspec": {
   "display_name": "mm_yj_copy",
   "language": "python",
   "name": "python3"
  },
  "language_info": {
   "codemirror_mode": {
    "name": "ipython",
    "version": 3
   },
   "file_extension": ".py",
   "mimetype": "text/x-python",
   "name": "python",
   "nbconvert_exporter": "python",
   "pygments_lexer": "ipython3",
   "version": "3.8.19"
  }
 },
 "nbformat": 4,
 "nbformat_minor": 2
}
